{
  "cells": [
    {
      "cell_type": "markdown",
      "metadata": {
        "id": "view-in-github",
        "colab_type": "text"
      },
      "source": [
        "<a href=\"https://colab.research.google.com/github/yernarknayatov/deep_learning_cv/blob/main/%D2%9A%D0%BD%D0%B0%D1%8F%D1%82%D0%BE%D0%B2_%D0%95%D1%80%D0%BD%D0%B0%D1%80_task_4.ipynb\" target=\"_parent\"><img src=\"https://colab.research.google.com/assets/colab-badge.svg\" alt=\"Open In Colab\"/></a>"
      ]
    },
    {
      "cell_type": "code",
      "execution_count": 1,
      "metadata": {
        "id": "6LIBUZjg159C"
      },
      "outputs": [],
      "source": [
        "import torch\n",
        "from torch import nn\n",
        "from torch import functional as F\n",
        "import pandas as pd\n",
        "import numpy as np\n",
        "from sklearn.model_selection import train_test_split\n",
        "from matplotlib import pyplot as plt\n",
        "from torch.utils.data import TensorDataset,Dataset, DataLoader\n",
        "import torch.utils.data as data_utils\n",
        "import torch\n",
        "from torch import nn\n",
        "from torch import functional as F\n",
        "import pandas as pd\n",
        "import numpy as np\n",
        "from sklearn.model_selection import train_test_split\n",
        "from matplotlib import pyplot as plt\n",
        "import tqdm"
      ]
    },
    {
      "cell_type": "code",
      "execution_count": 2,
      "metadata": {
        "id": "MDjLSO4_159H"
      },
      "outputs": [],
      "source": [
        "df = pd.read_csv('heart.csv', sep = ',')"
      ]
    },
    {
      "cell_type": "code",
      "execution_count": 3,
      "metadata": {
        "colab": {
          "base_uri": "https://localhost:8080/",
          "height": 206
        },
        "id": "IxlGM-fT159H",
        "outputId": "1d1794e8-6a27-4268-dd4b-edd9b7a40bda"
      },
      "outputs": [
        {
          "output_type": "execute_result",
          "data": {
            "text/plain": [
              "   age  sex  cp  trestbps  chol  fbs  restecg  thalach  exang  oldpeak  slope  \\\n",
              "0   63    1   3       145   233    1        0      150      0      2.3      0   \n",
              "1   37    1   2       130   250    0        1      187      0      3.5      0   \n",
              "2   41    0   1       130   204    0        0      172      0      1.4      2   \n",
              "3   56    1   1       120   236    0        1      178      0      0.8      2   \n",
              "4   57    0   0       120   354    0        1      163      1      0.6      2   \n",
              "\n",
              "   ca  thal  target  \n",
              "0   0     1       1  \n",
              "1   0     2       1  \n",
              "2   0     2       1  \n",
              "3   0     2       1  \n",
              "4   0     2       1  "
            ],
            "text/html": [
              "\n",
              "  <div id=\"df-9e2a9848-ef6a-4d47-9784-877e8ef6cf1f\">\n",
              "    <div class=\"colab-df-container\">\n",
              "      <div>\n",
              "<style scoped>\n",
              "    .dataframe tbody tr th:only-of-type {\n",
              "        vertical-align: middle;\n",
              "    }\n",
              "\n",
              "    .dataframe tbody tr th {\n",
              "        vertical-align: top;\n",
              "    }\n",
              "\n",
              "    .dataframe thead th {\n",
              "        text-align: right;\n",
              "    }\n",
              "</style>\n",
              "<table border=\"1\" class=\"dataframe\">\n",
              "  <thead>\n",
              "    <tr style=\"text-align: right;\">\n",
              "      <th></th>\n",
              "      <th>age</th>\n",
              "      <th>sex</th>\n",
              "      <th>cp</th>\n",
              "      <th>trestbps</th>\n",
              "      <th>chol</th>\n",
              "      <th>fbs</th>\n",
              "      <th>restecg</th>\n",
              "      <th>thalach</th>\n",
              "      <th>exang</th>\n",
              "      <th>oldpeak</th>\n",
              "      <th>slope</th>\n",
              "      <th>ca</th>\n",
              "      <th>thal</th>\n",
              "      <th>target</th>\n",
              "    </tr>\n",
              "  </thead>\n",
              "  <tbody>\n",
              "    <tr>\n",
              "      <th>0</th>\n",
              "      <td>63</td>\n",
              "      <td>1</td>\n",
              "      <td>3</td>\n",
              "      <td>145</td>\n",
              "      <td>233</td>\n",
              "      <td>1</td>\n",
              "      <td>0</td>\n",
              "      <td>150</td>\n",
              "      <td>0</td>\n",
              "      <td>2.3</td>\n",
              "      <td>0</td>\n",
              "      <td>0</td>\n",
              "      <td>1</td>\n",
              "      <td>1</td>\n",
              "    </tr>\n",
              "    <tr>\n",
              "      <th>1</th>\n",
              "      <td>37</td>\n",
              "      <td>1</td>\n",
              "      <td>2</td>\n",
              "      <td>130</td>\n",
              "      <td>250</td>\n",
              "      <td>0</td>\n",
              "      <td>1</td>\n",
              "      <td>187</td>\n",
              "      <td>0</td>\n",
              "      <td>3.5</td>\n",
              "      <td>0</td>\n",
              "      <td>0</td>\n",
              "      <td>2</td>\n",
              "      <td>1</td>\n",
              "    </tr>\n",
              "    <tr>\n",
              "      <th>2</th>\n",
              "      <td>41</td>\n",
              "      <td>0</td>\n",
              "      <td>1</td>\n",
              "      <td>130</td>\n",
              "      <td>204</td>\n",
              "      <td>0</td>\n",
              "      <td>0</td>\n",
              "      <td>172</td>\n",
              "      <td>0</td>\n",
              "      <td>1.4</td>\n",
              "      <td>2</td>\n",
              "      <td>0</td>\n",
              "      <td>2</td>\n",
              "      <td>1</td>\n",
              "    </tr>\n",
              "    <tr>\n",
              "      <th>3</th>\n",
              "      <td>56</td>\n",
              "      <td>1</td>\n",
              "      <td>1</td>\n",
              "      <td>120</td>\n",
              "      <td>236</td>\n",
              "      <td>0</td>\n",
              "      <td>1</td>\n",
              "      <td>178</td>\n",
              "      <td>0</td>\n",
              "      <td>0.8</td>\n",
              "      <td>2</td>\n",
              "      <td>0</td>\n",
              "      <td>2</td>\n",
              "      <td>1</td>\n",
              "    </tr>\n",
              "    <tr>\n",
              "      <th>4</th>\n",
              "      <td>57</td>\n",
              "      <td>0</td>\n",
              "      <td>0</td>\n",
              "      <td>120</td>\n",
              "      <td>354</td>\n",
              "      <td>0</td>\n",
              "      <td>1</td>\n",
              "      <td>163</td>\n",
              "      <td>1</td>\n",
              "      <td>0.6</td>\n",
              "      <td>2</td>\n",
              "      <td>0</td>\n",
              "      <td>2</td>\n",
              "      <td>1</td>\n",
              "    </tr>\n",
              "  </tbody>\n",
              "</table>\n",
              "</div>\n",
              "      <button class=\"colab-df-convert\" onclick=\"convertToInteractive('df-9e2a9848-ef6a-4d47-9784-877e8ef6cf1f')\"\n",
              "              title=\"Convert this dataframe to an interactive table.\"\n",
              "              style=\"display:none;\">\n",
              "        \n",
              "  <svg xmlns=\"http://www.w3.org/2000/svg\" height=\"24px\"viewBox=\"0 0 24 24\"\n",
              "       width=\"24px\">\n",
              "    <path d=\"M0 0h24v24H0V0z\" fill=\"none\"/>\n",
              "    <path d=\"M18.56 5.44l.94 2.06.94-2.06 2.06-.94-2.06-.94-.94-2.06-.94 2.06-2.06.94zm-11 1L8.5 8.5l.94-2.06 2.06-.94-2.06-.94L8.5 2.5l-.94 2.06-2.06.94zm10 10l.94 2.06.94-2.06 2.06-.94-2.06-.94-.94-2.06-.94 2.06-2.06.94z\"/><path d=\"M17.41 7.96l-1.37-1.37c-.4-.4-.92-.59-1.43-.59-.52 0-1.04.2-1.43.59L10.3 9.45l-7.72 7.72c-.78.78-.78 2.05 0 2.83L4 21.41c.39.39.9.59 1.41.59.51 0 1.02-.2 1.41-.59l7.78-7.78 2.81-2.81c.8-.78.8-2.07 0-2.86zM5.41 20L4 18.59l7.72-7.72 1.47 1.35L5.41 20z\"/>\n",
              "  </svg>\n",
              "      </button>\n",
              "      \n",
              "  <style>\n",
              "    .colab-df-container {\n",
              "      display:flex;\n",
              "      flex-wrap:wrap;\n",
              "      gap: 12px;\n",
              "    }\n",
              "\n",
              "    .colab-df-convert {\n",
              "      background-color: #E8F0FE;\n",
              "      border: none;\n",
              "      border-radius: 50%;\n",
              "      cursor: pointer;\n",
              "      display: none;\n",
              "      fill: #1967D2;\n",
              "      height: 32px;\n",
              "      padding: 0 0 0 0;\n",
              "      width: 32px;\n",
              "    }\n",
              "\n",
              "    .colab-df-convert:hover {\n",
              "      background-color: #E2EBFA;\n",
              "      box-shadow: 0px 1px 2px rgba(60, 64, 67, 0.3), 0px 1px 3px 1px rgba(60, 64, 67, 0.15);\n",
              "      fill: #174EA6;\n",
              "    }\n",
              "\n",
              "    [theme=dark] .colab-df-convert {\n",
              "      background-color: #3B4455;\n",
              "      fill: #D2E3FC;\n",
              "    }\n",
              "\n",
              "    [theme=dark] .colab-df-convert:hover {\n",
              "      background-color: #434B5C;\n",
              "      box-shadow: 0px 1px 3px 1px rgba(0, 0, 0, 0.15);\n",
              "      filter: drop-shadow(0px 1px 2px rgba(0, 0, 0, 0.3));\n",
              "      fill: #FFFFFF;\n",
              "    }\n",
              "  </style>\n",
              "\n",
              "      <script>\n",
              "        const buttonEl =\n",
              "          document.querySelector('#df-9e2a9848-ef6a-4d47-9784-877e8ef6cf1f button.colab-df-convert');\n",
              "        buttonEl.style.display =\n",
              "          google.colab.kernel.accessAllowed ? 'block' : 'none';\n",
              "\n",
              "        async function convertToInteractive(key) {\n",
              "          const element = document.querySelector('#df-9e2a9848-ef6a-4d47-9784-877e8ef6cf1f');\n",
              "          const dataTable =\n",
              "            await google.colab.kernel.invokeFunction('convertToInteractive',\n",
              "                                                     [key], {});\n",
              "          if (!dataTable) return;\n",
              "\n",
              "          const docLinkHtml = 'Like what you see? Visit the ' +\n",
              "            '<a target=\"_blank\" href=https://colab.research.google.com/notebooks/data_table.ipynb>data table notebook</a>'\n",
              "            + ' to learn more about interactive tables.';\n",
              "          element.innerHTML = '';\n",
              "          dataTable['output_type'] = 'display_data';\n",
              "          await google.colab.output.renderOutput(dataTable, element);\n",
              "          const docLink = document.createElement('div');\n",
              "          docLink.innerHTML = docLinkHtml;\n",
              "          element.appendChild(docLink);\n",
              "        }\n",
              "      </script>\n",
              "    </div>\n",
              "  </div>\n",
              "  "
            ]
          },
          "metadata": {},
          "execution_count": 3
        }
      ],
      "source": [
        "df.head()"
      ]
    },
    {
      "cell_type": "code",
      "execution_count": 4,
      "metadata": {
        "colab": {
          "base_uri": "https://localhost:8080/"
        },
        "id": "_y8kvYJEZesX",
        "outputId": "338e641f-d299-42dc-bdcd-be2b61fd4449"
      },
      "outputs": [
        {
          "output_type": "execute_result",
          "data": {
            "text/plain": [
              "(303, 14)"
            ]
          },
          "metadata": {},
          "execution_count": 4
        }
      ],
      "source": [
        "df.shape"
      ]
    },
    {
      "cell_type": "code",
      "execution_count": 5,
      "metadata": {
        "id": "l7Xixn-z159I"
      },
      "outputs": [],
      "source": [
        "feature_columns = ['age', 'sex','cp','trestbps','chol','fbs','restecg','thalach','exang','oldpeak','slope','ca','thal']\n",
        "target_column = 'target'"
      ]
    },
    {
      "cell_type": "code",
      "execution_count": 6,
      "metadata": {
        "id": "tB1I8r_L159J"
      },
      "outputs": [],
      "source": [
        "train, test = train_test_split(df, test_size=0.2, random_state=23)"
      ]
    },
    {
      "cell_type": "code",
      "execution_count": 7,
      "metadata": {
        "id": "UJvPgPAk159K"
      },
      "outputs": [],
      "source": [
        "X = np.array(df[feature_columns])\n",
        "# Extract target\n",
        "y = np.array(df[target_column])\n",
        "\n",
        "# encode target with target_mapping\n",
        "y = np.array(df[target_column])"
      ]
    },
    {
      "cell_type": "code",
      "execution_count": 8,
      "metadata": {
        "id": "Wk07hNCz159K"
      },
      "outputs": [],
      "source": [
        "X_mean = np.mean(X, axis = 0)\n",
        "X_std = np.std(X, axis = 0)\n",
        "X = np.array((X - X_mean)/X_std)"
      ]
    },
    {
      "cell_type": "code",
      "execution_count": 9,
      "metadata": {
        "id": "P7VeaW7F159L"
      },
      "outputs": [],
      "source": [
        "X_train, X_test, y_train, y_test = train_test_split(X,y, test_size=0.2, random_state=15)"
      ]
    },
    {
      "cell_type": "code",
      "execution_count": 10,
      "metadata": {
        "id": "j5JSAkAA159L"
      },
      "outputs": [],
      "source": [
        "X_train = torch.FloatTensor(X_train)\n",
        "y_train = torch.FloatTensor(y_train)\n",
        "X_test = torch.FloatTensor(X_test)\n",
        "y_test = torch.FloatTensor(y_test)"
      ]
    },
    {
      "cell_type": "code",
      "execution_count": 11,
      "metadata": {
        "id": "gMhb61-E159L"
      },
      "outputs": [],
      "source": [
        "batch_size = 15"
      ]
    },
    {
      "cell_type": "code",
      "execution_count": 12,
      "metadata": {
        "id": "0YoD8JPj159M"
      },
      "outputs": [],
      "source": [
        "dataset =TensorDataset(X_train, y_train)\n",
        "train_loader = DataLoader(dataset, batch_size, shuffle = False)"
      ]
    },
    {
      "cell_type": "code",
      "execution_count": 13,
      "metadata": {
        "id": "yY4PSQSD159M"
      },
      "outputs": [],
      "source": [
        "testset =TensorDataset(X_test, y_test)\n",
        "test_loader = DataLoader(testset, batch_size, shuffle = False)"
      ]
    },
    {
      "cell_type": "code",
      "execution_count": 14,
      "metadata": {
        "colab": {
          "base_uri": "https://localhost:8080/"
        },
        "id": "NKy5GwvQ159N",
        "outputId": "0a8c3b7f-a207-410a-e890-1afa9b9d6490"
      },
      "outputs": [
        {
          "output_type": "stream",
          "name": "stdout",
          "text": [
            "tensor([[ 0.5110,  0.6810,  1.9731,  1.6206,  0.5167, -0.4176, -1.0058, -1.0778,\n",
            "         -0.6966, -0.8969,  0.9764, -0.7144, -0.5129],\n",
            "        [-0.1507,  0.6810,  1.0026, -0.0927, -0.0051,  2.3944, -1.0058,  1.0212,\n",
            "         -0.6966, -0.8969,  0.9764,  2.2241, -0.5129],\n",
            "        [-1.4742,  0.6810, -0.9385, -1.2350, -1.4352, -0.4176, -1.0058,  0.3653,\n",
            "         -0.6966, -0.8969,  0.9764, -0.7144,  1.1230],\n",
            "        [ 0.6213,  0.6810, -0.9385, -0.0927,  0.1302, -0.4176,  0.8990, -0.2469,\n",
            "          1.4355,  0.3109,  0.9764,  0.2651,  1.1230],\n",
            "        [ 0.5110,  0.6810, -0.9385,  0.1928, -0.2370, -0.4176,  0.8990,  0.4965,\n",
            "         -0.6966, -0.4655, -0.6491, -0.7144,  1.1230],\n",
            "        [-1.8050,  0.6810,  1.9731, -0.6639, -0.2950, -0.4176,  0.8990,  1.4148,\n",
            "          1.4355,  2.3814, -0.6491, -0.7144,  1.1230],\n",
            "        [-1.4742,  0.6810,  1.0026, -1.1208,  0.0722, -0.4176,  0.8990,  1.2836,\n",
            "         -0.6966, -0.8969,  0.9764, -0.7144, -0.5129],\n",
            "        [-1.5844,  0.6810,  1.9731,  0.4784, -0.9134, -0.4176,  0.8990,  1.2399,\n",
            "          1.4355,  0.3109,  0.9764, -0.7144,  1.1230],\n",
            "        [ 0.8419, -1.4684, -0.9385,  1.6206, -1.5898, -0.4176, -1.0058, -0.2032,\n",
            "         -0.6966,  4.4519, -2.2746,  2.2241,  1.1230],\n",
            "        [ 0.4008,  0.6810,  1.0026, -1.5206, -0.1211, -0.4176, -1.0058,  0.1904,\n",
            "          1.4355, -0.3792, -0.6491, -0.7144,  1.1230],\n",
            "        [-0.2610, -1.4684,  1.0026,  0.2499, -0.9714, -0.4176, -1.0058,  0.8463,\n",
            "         -0.6966, -0.8106, -0.6491, -0.7144, -0.5129],\n",
            "        [-1.2536,  0.6810,  1.0026, -0.0927,  1.3284, -0.4176,  0.8990,  0.5402,\n",
            "         -0.6966,  0.7423,  0.9764,  0.2651, -0.5129],\n",
            "        [-2.2462,  0.6810,  1.9731, -0.7781, -1.2419, -0.4176, -1.0058,  1.0650,\n",
            "         -0.6966, -0.8969,  0.9764, -0.7144, -0.5129],\n",
            "        [ 0.8419, -1.4684, -0.9385,  0.4784,  0.4201, -0.4176, -1.0058,  0.4527,\n",
            "         -0.6966,  2.2088, -2.2746,  1.2446, -0.5129],\n",
            "        [ 0.6213,  0.6810,  1.0026,  0.4784, -1.1840, -0.4176, -1.0058,  0.2341,\n",
            "         -0.6966,  1.6912, -0.6491, -0.7144, -0.5129]])\n",
            "tensor([0., 1., 0., 0., 1., 0., 1., 1., 0., 1., 1., 1., 1., 0., 0.])\n",
            "------------------\n"
          ]
        }
      ],
      "source": [
        "for x,y in train_loader:\n",
        "    # Print the 'text' data of the batch\n",
        "    print(x)\n",
        "    print(y)\n",
        "    print('------------------')\n",
        "    break"
      ]
    },
    {
      "cell_type": "code",
      "execution_count": 15,
      "metadata": {
        "id": "NUicBb7e159O"
      },
      "outputs": [],
      "source": [
        "#Write your own model and correct mistakes if they are\n",
        "torch.manual_seed(42) \n",
        "np.random.seed(42)\n",
        "model = nn.Sequential(\n",
        "    torch.nn.Linear(13, 40),\n",
        "    # torch.nn.LeakyReLU(),\n",
        "    torch.nn.Linear(40, 20),\n",
        "    # torch.nn.LeakyReLU(),\n",
        "    torch.nn.Linear(20, 5),\n",
        "    # torch.nn.LeakyReLU(),\n",
        "    torch.nn.Linear(5, 1),\n",
        "    torch.nn.Sigmoid(),\n",
        ")\n",
        "    \n",
        "loss_fn = nn.MSELoss()\n",
        "optimizer = torch.optim.SGD(model.parameters(), lr=0.2)\n",
        "num_epoch = 10"
      ]
    },
    {
      "cell_type": "code",
      "execution_count": 16,
      "metadata": {
        "colab": {
          "base_uri": "https://localhost:8080/"
        },
        "id": "-VCQ0Z1y159O",
        "outputId": "21fd4f63-d443-439f-f173-591511b59f6e"
      },
      "outputs": [
        {
          "output_type": "stream",
          "name": "stdout",
          "text": [
            "0 train loss  0.21589575970874114  val loss  0.02895982936024666\n"
          ]
        }
      ],
      "source": [
        "train_losses = []\n",
        "test_losses = []\n",
        "learning_rate = 1e-4\n",
        "\n",
        "for i in range(num_epoch):\n",
        "    model.train(True)\n",
        "    epoch_train_losses = []\n",
        "    \n",
        "    for X_batch, y_batch in train_loader:\n",
        "        y_pred = model(X_batch)\n",
        "        loss = loss_fn(y_pred.squeeze().squeeze(), y_batch.squeeze())\n",
        "        optimizer.zero_grad()\n",
        "        loss.backward()\n",
        "        optimizer.step()\n",
        "        epoch_train_losses.append(loss.item())              \n",
        "    train_losses.append(np.mean(epoch_train_losses))\n",
        "    model.train(False)\n",
        "    with torch.no_grad():\n",
        "      #add code for validation set\n",
        "      for X_batch, y_batch in test_loader:\n",
        "            y_pred = model(X_batch)\n",
        "            loss = loss_fn(y_pred.squeeze().squeeze(), y_batch.squeeze())\n",
        "      test_losses.append(loss.item())\n",
        "    if i%20 == 0:\n",
        "        print(i, 'train loss ',np.mean(epoch_train_losses), ' val loss ',np.mean(test_losses))"
      ]
    },
    {
      "cell_type": "code",
      "execution_count": 17,
      "metadata": {
        "colab": {
          "base_uri": "https://localhost:8080/"
        },
        "id": "Fntaz_ngcgmp",
        "outputId": "17937961-0562-45ed-90d0-8789b0a33924"
      },
      "outputs": [
        {
          "output_type": "execute_result",
          "data": {
            "text/plain": [
              "[0.21589575970874114,\n",
              " 0.14611228949883404,\n",
              " 0.12214361109277781,\n",
              " 0.11437440663576126,\n",
              " 0.11055793919984032,\n",
              " 0.10848473187755137,\n",
              " 0.10722540056004244,\n",
              " 0.10638152271070901,\n",
              " 0.1057793786201407,\n",
              " 0.10533233162234812]"
            ]
          },
          "metadata": {},
          "execution_count": 17
        }
      ],
      "source": [
        "train_losses"
      ]
    },
    {
      "cell_type": "code",
      "execution_count": 18,
      "metadata": {
        "colab": {
          "base_uri": "https://localhost:8080/"
        },
        "id": "4YKt-I0Oci4r",
        "outputId": "d5f3fb73-03e2-478c-fb32-321606cb7742"
      },
      "outputs": [
        {
          "output_type": "execute_result",
          "data": {
            "text/plain": [
              "[0.02895982936024666,\n",
              " 0.0007139047957025468,\n",
              " 5.5520442401757464e-05,\n",
              " 9.0663825176307e-06,\n",
              " 2.2389240257325582e-06,\n",
              " 7.373349149020214e-07,\n",
              " 2.966636145629309e-07,\n",
              " 1.367679800523547e-07,\n",
              " 6.923168172079386e-08,\n",
              " 3.746198018461655e-08]"
            ]
          },
          "metadata": {},
          "execution_count": 18
        }
      ],
      "source": [
        "\n",
        "test_losses"
      ]
    },
    {
      "cell_type": "code",
      "execution_count": 19,
      "metadata": {
        "colab": {
          "base_uri": "https://localhost:8080/",
          "height": 428
        },
        "id": "BwkrZGnd159P",
        "outputId": "b0e04b8f-5fc3-4a05-a655-21b07f0a622f"
      },
      "outputs": [
        {
          "output_type": "display_data",
          "data": {
            "text/plain": [
              "<Figure size 720x504 with 1 Axes>"
            ],
            "image/png": "[encoded data removed]"
          },
          "metadata": {
            "needs_background": "light"
          }
        }
      ],
      "source": [
        "#print both train and test losses on one graph \n",
        "plt.figure(figsize=(10,7))\n",
        "plt.plot(range(len(train_losses)), train_losses, label='train')\n",
        "plt.plot(range(len(test_losses)), test_losses, label='test')\n",
        "plt.legend()\n",
        "plt.show()"
      ]
    },
    {
      "cell_type": "code",
      "execution_count": 20,
      "metadata": {
        "id": "yZp3W4Qy159Q"
      },
      "outputs": [],
      "source": [
        "y_pred = model.forward(X_test)"
      ]
    },
    {
      "cell_type": "code",
      "execution_count": 21,
      "metadata": {
        "id": "ctKlmlw5159Q"
      },
      "outputs": [],
      "source": [
        "y_pred = np.round(y_pred.detach().numpy())"
      ]
    },
    {
      "cell_type": "code",
      "execution_count": 22,
      "metadata": {
        "colab": {
          "base_uri": "https://localhost:8080/"
        },
        "id": "W3W6ciUK159Q",
        "outputId": "d866faf9-3454-44aa-9ac8-d89855a2f9b5"
      },
      "outputs": [
        {
          "output_type": "stream",
          "name": "stdout",
          "text": [
            "[[24  4]\n",
            " [ 7 26]]\n",
            "              precision    recall  f1-score   support\n",
            "\n",
            "         0.0       0.77      0.86      0.81        28\n",
            "         1.0       0.87      0.79      0.83        33\n",
            "\n",
            "    accuracy                           0.82        61\n",
            "   macro avg       0.82      0.82      0.82        61\n",
            "weighted avg       0.82      0.82      0.82        61\n",
            "\n"
          ]
        }
      ],
      "source": [
        "#show your results \n",
        "from sklearn.metrics import classification_report, confusion_matrix\n",
        "print(confusion_matrix(y_test, y_pred))\n",
        "print(classification_report(y_test, y_pred))"
      ]
    },
    {
      "cell_type": "markdown",
      "metadata": {
        "id": "4p_SpNsl3dTn"
      },
      "source": [
        "Theoretical part: \n",
        "<br>1) Describe several metrics applied for image segmentation task \n",
        "<br>2)Describe difference between semantic and instance segmentation  "
      ]
    },
    {
      "cell_type": "markdown",
      "metadata": {
        "id": "NAOihDJ3cYg5"
      },
      "source": [
        "1. DICE Intuitively, a successful prediction is one which maximizes the overlap between the predicted and true objects. \n",
        "Dice Coefficient is 2 * the Area of Overlap divided by the total number of pixels in both images.\n",
        "\n",
        "2. Semantic segmentation treats multiple objects within a single category as one entity. Instance segmentation, on the other hand, identifies individual objects within these categories."
      ]
    }
  ],
  "metadata": {
    "colab": {
      "collapsed_sections": [],
      "provenance": [],
      "include_colab_link": true
    },
    "kernelspec": {
      "display_name": "Python 3",
      "language": "python",
      "name": "python3"
    },
    "language_info": {
      "codemirror_mode": {
        "name": "ipython",
        "version": 3
      },
      "file_extension": ".py",
      "mimetype": "text/x-python",
      "name": "python",
      "nbconvert_exporter": "python",
      "pygments_lexer": "ipython3",
      "version": "3.7.6"
    }
  },
  "nbformat": 4,
  "nbformat_minor": 0
}